{
 "cells": [
  {
   "cell_type": "markdown",
   "id": "29b239f0",
   "metadata": {},
   "source": [
    "# Argument Intent Linter"
   ]
  },
  {
   "cell_type": "markdown",
   "id": "3e6ef992",
   "metadata": {},
   "source": [
    "The previous notebooks have all focused on using Loki to perform code transformations. Loki can also be used as a Fortran linter. In this notebook, we will use Loki to check whether the declared intent of a subroutine argument is consistent with how that variable is used.\n",
    "\n",
    "For brevity, only the core functionality of a subroutine dummy argument intent-linter is developed here.\n",
    "\n",
    "Let us start by first examining the sample subroutine that we will use to illustrate this notebook:"
   ]
  },
  {
   "cell_type": "code",
   "execution_count": 1,
   "id": "65da8ec9",
   "metadata": {},
   "outputs": [
    {
     "name": "stdout",
     "output_type": "stream",
     "text": [
      "\n",
      "MODULE kernel_mod\n",
      "  USE parkind1, ONLY: jpim, jprb\n",
      "  IMPLICIT NONE\n",
      "  CONTAINS\n",
      "  SUBROUTINE some_kernel (n, vout, var_out, var_in, var_inout, b, l, h, y)\n",
      "    \n",
      "    INTEGER(KIND=jpim), INTENT(IN) :: n, l, b\n",
      "    INTEGER(KIND=jpim), INTENT(IN) :: h\n",
      "    REAL(KIND=jprb), INTENT(IN) :: var_in(n)\n",
      "    REAL(KIND=jprb), INTENT(INOUT) :: var_out(n)\n",
      "    REAL(KIND=jprb), INTENT(INOUT) :: var_inout(n)\n",
      "    REAL(KIND=jprb), INTENT(INOUT) :: vout(n)\n",
      "    REAL(KIND=jprb), INTENT(INOUT) :: y(:)\n",
      "    \n",
      "  END SUBROUTINE some_kernel\n",
      "END MODULE kernel_mod\n",
      "\n",
      "SUBROUTINE intent_test (m, n, var_in, var_out, var_inout, tendency_loc)\n",
      "  USE parkind1, ONLY: jpim, jprb\n",
      "  USE kernel_mod, ONLY: some_kernel\n",
      "  USE yoecldp, ONLY: nclv\n",
      "  IMPLICIT NONE\n",
      "  \n",
      "  INTEGER(KIND=jpim), INTENT(IN) :: m, n\n",
      "  INTEGER(KIND=jpim) :: i, j, k, h, l\n",
      "  REAL(KIND=jprb), INTENT(IN) :: var_in(n, n, n)\n",
      "  REAL(KIND=jprb), TARGET, INTENT(OUT) :: var_out(n, n, n)\n",
      "  REAL(KIND=jprb), INTENT(INOUT) :: var_inout(n, n, n)\n",
      "  REAL(KIND=jprb), ALLOCATABLE :: x(:), y(:)\n",
      "  REAL(KIND=jprb), POINTER :: vout(n)\n",
      "  TYPE(state_type), INTENT(OUT) :: tendency_loc\n",
      "  \n",
      "  ALLOCATE (x(n))\n",
      "  ASSOCIATE (mtmp=>m)\n",
      "  ALLOCATE (y(mtmp))\n",
      "  END ASSOCIATE\n",
      "  \n",
      "  ASSOCIATE (mtmp=>n)\n",
      "  DO k=1,mtmp\n",
      "    DO j=1,mtmp\n",
      "      DO i=1,mtmp\n",
      "        var_out(i, j, k) = 2._jprb\n",
      "      END DO\n",
      "      \n",
      "      ASSOCIATE (mbuf=>mtmp)\n",
      "      var_out(m:mbuf, j, k) = var_in(m:mbuf, j, k) + var_inout(m:mbuf, j, k) + var_out(m:mbuf, j, k)\n",
      "      END ASSOCIATE\n",
      "      \n",
      "      vout => var_out(:, j, k)\n",
      "      \n",
      "      ASSOCIATE (vin=>mtmp)\n",
      "      CALL some_kernel(vin, vout, vout, var_in(:, j, k), var_inout(:, j, k), 1, h=vin, l=5, y=y)\n",
      "      END ASSOCIATE\n",
      "      \n",
      "      NULLIFY (vout)\n",
      "      \n",
      "      ASSOCIATE (vout=>tendency_loc%cld(:, j, k))\n",
      "      \n",
      "      ASSOCIATE (vin=>var_in(:, j, k))\n",
      "      CALL some_kernel(mtmp, vout, var_out(:, j, k), vin, var_inout(:, j, k), 1, h=mtmp, l=5, y=y)\n",
      "      END ASSOCIATE\n",
      "      \n",
      "      END ASSOCIATE\n",
      "      \n",
      "      DO i=1,mtmp\n",
      "        var_inout(i, j, k) = var_out(i, j, k)\n",
      "      END DO\n",
      "    END DO\n",
      "  END DO\n",
      "  END ASSOCIATE\n",
      "  \n",
      "  DEALLOCATE (x)\n",
      "  DEALLOCATE (y)\n",
      "  \n",
      "END SUBROUTINE intent_test\n"
     ]
    }
   ],
   "source": [
    "from loki import Sourcefile\n",
    "\n",
    "source = Sourcefile.from_file('src/intent_test.F90')\n",
    "print(source.to_fortran())\n"
   ]
  },
  {
   "cell_type": "markdown",
   "id": "b365ec21",
   "metadata": {},
   "source": [
    "## Retrieving variable intent"
   ]
  },
  {
   "cell_type": "markdown",
   "id": "71b72f2e",
   "metadata": {},
   "source": [
    "We can access all the variables declared in subroutine `intent_test` using the `variables` property of the [_Subroutine_](https://sites.ecmwf.int/docs/loki/main/loki.subroutine.html#loki.subroutine.Subroutine) object:"
   ]
  },
  {
   "cell_type": "code",
   "execution_count": 2,
   "id": "0566471b",
   "metadata": {},
   "outputs": [
    {
     "name": "stdout",
     "output_type": "stream",
     "text": [
      "vars:: m, n, i, j, k, h, l, var_in(n, n, n), var_out(n, n, n), var_inout(n, n, n), x(:), y(:), vout(n), tendency_loc\n"
     ]
    }
   ],
   "source": [
    "routine = source['intent_test']\n",
    "print('vars::', ', '.join([str(v) for v in routine.variables]))\n"
   ]
  },
  {
   "cell_type": "markdown",
   "id": "a6244a0f",
   "metadata": {},
   "source": [
    "In the Loki IR, variables are stored as symbols with base `class` [_MetaSymbol_](https://sites.ecmwf.int/docs/loki/main/loki.expression.symbols.html#loki.expression.symbols.MetaSymbol) and the `intent` of a variable is stored in the `property` [`MetaSymbol.type`](https://sites.ecmwf.int/docs/loki/main/loki.expression.symbols.html#loki.expression.symbols.MetaSymbol.type). To retrieve all variables with declared intent, we only need to look through the subroutine `arguments`:"
   ]
  },
  {
   "cell_type": "code",
   "execution_count": 3,
   "id": "3b251eb0",
   "metadata": {},
   "outputs": [
    {
     "name": "stdout",
     "output_type": "stream",
     "text": [
      "in:: m, n, var_in(n, n, n) out:: var_out(n, n, n), tendency_loc inout:: var_inout(n, n, n)\n"
     ]
    }
   ],
   "source": [
    "from collections import defaultdict\n",
    "\n",
    "intent_vars = defaultdict(list)\n",
    "for var in routine.arguments:\n",
    "    intent_vars[var.type.intent].append(var)\n",
    "\n",
    "in_vars = intent_vars['in']\n",
    "out_vars = intent_vars['out']\n",
    "inout_vars = intent_vars['inout']\n",
    "\n",
    "print('in::', ', '.join([str(v) for v in in_vars]), 'out::', ', '.join([str(v) for v in out_vars]), 'inout::', ','.join([str(v) for v in inout_vars]))\n",
    "assert all([len(in_vars) == 3, len(out_vars) == 2, len(inout_vars) == 1])\n"
   ]
  },
  {
   "cell_type": "markdown",
   "id": "d1732e23",
   "metadata": {},
   "source": [
    "## Separating variables from dimensions"
   ]
  },
  {
   "cell_type": "markdown",
   "id": "82041e9c",
   "metadata": {},
   "source": [
    "In Loki, the most general way of retrieving the variables used in an expression or node is the [_FindVariables_](https://sites.ecmwf.int/docs/loki/main/loki.expression.expr_visitors.html#loki.expression.expr_visitors.FindVariables) visitor. In the IR nodes in the body of a subroutine, the `FindVariables` visitor will return variables that appear in their own right, as well as any variables used for array indexing. An example of this is seen when `FindVariables` is applied to an [_Allocation_](https://sites.ecmwf.int/docs/loki/main/loki.ir.html#loki.ir.Allocation):"
   ]
  },
  {
   "cell_type": "code",
   "execution_count": 4,
   "id": "56c5c4e7",
   "metadata": {},
   "outputs": [
    {
     "name": "stdout",
     "output_type": "stream",
     "text": [
      "x(n), n\n"
     ]
    }
   ],
   "source": [
    "from loki import FindNodes, FindVariables, Allocation\n",
    "\n",
    "alloc = FindNodes(Allocation).visit(routine.body)[0]\n",
    "alloc_vars = FindVariables().visit(alloc.variables)\n",
    "print(', '.join([str(v) for v in alloc_vars]))\n"
   ]
  },
  {
   "cell_type": "markdown",
   "id": "c2ffad04",
   "metadata": {},
   "source": [
    "Utilities to distingiush between variables and their dimensions can be constructed by wrapping small functions around `FindVariables`:"
   ]
  },
  {
   "cell_type": "code",
   "execution_count": 5,
   "id": "2a1de40b",
   "metadata": {},
   "outputs": [],
   "source": [
    "from loki import Array, flatten\n",
    "\n",
    "def findvarsnotdims(o, return_vars=True):\n",
    "    \"\"\"Return list of variables excluding any array dimensions.\"\"\"\n",
    "\n",
    "    dims = flatten([FindVariables().visit(var.dimensions) for var in FindVariables().visit(o) if isinstance(var, Array)])\n",
    "\n",
    "#   remove duplicates from dims\n",
    "    dims = list(set(dims))\n",
    "\n",
    "    if return_vars:\n",
    "        return [var for var in FindVariables().visit(o) if not var in dims]\n",
    "\n",
    "    return [var.name for var in FindVariables().visit(o) if not var in dims]\n",
    "\n",
    "def finddimsnotvars(o, return_vars=True):\n",
    "    \"\"\"Return list of all array dimensions.\"\"\"\n",
    "\n",
    "    dims = flatten([FindVariables().visit(var.dimensions) for var in FindVariables().visit(o) if isinstance(var, Array)])\n",
    "\n",
    "#   remove duplicates from dims\n",
    "    dims = list(set(dims))\n",
    "\n",
    "    if return_vars:\n",
    "        return dims\n",
    "\n",
    "    return [var.name for var in dims]\n"
   ]
  },
  {
   "cell_type": "markdown",
   "id": "808792c4",
   "metadata": {},
   "source": [
    "A quick test reveals:"
   ]
  },
  {
   "cell_type": "code",
   "execution_count": 6,
   "id": "09018be6",
   "metadata": {},
   "outputs": [
    {
     "name": "stdout",
     "output_type": "stream",
     "text": [
      "vars:['x']\n",
      "dims:['n']\n"
     ]
    }
   ],
   "source": [
    "print(f'vars:{findvarsnotdims(alloc.variables, return_vars=False)}')\n",
    "print(f'dims:{finddimsnotvars(alloc.variables, return_vars=False)}')\n",
    "\n",
    "assert len(findvarsnotdims(alloc.variables)) == 1\n",
    "assert len(finddimsnotvars(alloc.variables)) == 1\n"
   ]
  },
  {
   "cell_type": "markdown",
   "id": "c242a047",
   "metadata": {},
   "source": [
    "## Resolving associations"
   ]
  },
  {
   "cell_type": "markdown",
   "id": "bba91785",
   "metadata": {},
   "source": [
    "You may have noticed that `intent_test` contains several nested associations. The simplest way of dealing with these is to resolve all the associations before we begin linting the program:"
   ]
  },
  {
   "cell_type": "code",
   "execution_count": 7,
   "id": "97e3e472",
   "metadata": {},
   "outputs": [
    {
     "name": "stdout",
     "output_type": "stream",
     "text": [
      "\n",
      "ALLOCATE (x(n))\n",
      "ALLOCATE (y(m))\n",
      "\n",
      "DO k=1,n\n",
      "  DO j=1,n\n",
      "    DO i=1,n\n",
      "      var_out(i, j, k) = 2._jprb\n",
      "    END DO\n",
      "    \n",
      "    var_out(m:n, j, k) = var_in(m:n, j, k) + var_inout(m:n, j, k) + var_out(m:n, j, k)\n",
      "    \n",
      "    vout => var_out(:, j, k)\n",
      "    \n",
      "    CALL some_kernel(n, vout, vout, var_in(:, j, k), var_inout(:, j, k), 1, h=n, l=5, y=y)\n",
      "    \n",
      "    NULLIFY (vout)\n",
      "    \n",
      "    \n",
      "    CALL some_kernel(n, tendency_loc%cld(:, j, k), var_out(:, j, k), var_in(:, j, k), var_inout(:, j, k), 1, h=n, l=5, y=y)\n",
      "    \n",
      "    \n",
      "    DO i=1,n\n",
      "      var_inout(i, j, k) = var_out(i, j, k)\n",
      "    END DO\n",
      "  END DO\n",
      "END DO\n",
      "\n",
      "DEALLOCATE (x)\n",
      "DEALLOCATE (y)\n",
      "\n"
     ]
    }
   ],
   "source": [
    "from loki import fgen, SubstituteExpressions, Associate, Transformer\n",
    "\n",
    "assoc_map = {}\n",
    "for assoc in FindNodes(Associate).visit(routine.body):\n",
    "    vmap = {}\n",
    "    for rexpr, lexpr in assoc.associations:\n",
    "        vmap.update({var: rexpr for var in FindVariables().visit(assoc.body) if lexpr == var})\n",
    "    assoc_map[assoc] = SubstituteExpressions(vmap).visit(assoc.body)\n",
    "routine.body = Transformer(assoc_map).visit(routine.body)\n",
    "print(fgen(routine.body))\n"
   ]
  },
  {
   "cell_type": "markdown",
   "id": "4797ecc6",
   "metadata": {},
   "source": [
    "In Loki, an [_Associate_](https://sites.ecmwf.int/docs/loki/main/loki.ir.html#loki.ir.Associate) statement is a `ScopedNode`. A `ScopedNode` is a mix-in that attaches to an [_InternalNode_](https://sites.ecmwf.int/docs/loki/main/loki.ir.html#loki.ir.InternalNode). It declares a new scope that sits within the `Subroutine` scope, but also defines a few of its own symbols. This means that the new variables declared in an `Associate` statement are only in scope in the body of that particular node. Therefore to resolve the associations we can simply apply the [_SubstituteExpressions_](https://sites.ecmwf.int/docs/loki/main/loki.expression.expr_visitors.html#loki.expression.expr_visitors.SubstituteExpressions) visitor to the `Associate`'s body, as shown in the previous code-cell.\n",
    "\n",
    "Resolving pointer associations that use the `=>` operator is a little more involved. Firstly, pointers and targets must be declared in the `Subroutine` specification, unlike an `Associate` statement which declares new symbols. It would thus be wrong to think of a pointer association as having its own localised scope. Secondly, an associated pointer can be disassociated either by exiting the encompassing scope (i.e. exiting the `Subroutine`), by using the [_Nullify_](https://sites.ecmwf.int/docs/loki/main/loki.ir.html#loki.ir.Nullify) intrinsic or by assigning to `NULL()`.\n",
    "\n",
    "Therefore before we can apply the `SubstituteExpressions` visitor to resolve pointer associations, we must first determine the *range* of nodes over which the pointer is valid. The best way to do so is to develop a bespoke visitor: "
   ]
  },
  {
   "cell_type": "code",
   "execution_count": 8,
   "id": "d8b139a5",
   "metadata": {},
   "outputs": [
    {
     "name": "stdout",
     "output_type": "stream",
     "text": [
      "Comment:: \n",
      "Call:: some_kernel\n",
      "Comment:: \n"
     ]
    }
   ],
   "source": [
    "from loki import Assignment\n",
    "\n",
    "class FindPointerRange(FindNodes):\n",
    "    \"\"\"Visitor to find range of nodes over which pointer associations apply.\"\"\"\n",
    "\n",
    "\n",
    "    def __init__(self, match, greedy=False):\n",
    "\n",
    "        super().__init__(match, mode='type', greedy=greedy)\n",
    "        self.rule = lambda match, o: o == match\n",
    "        self.stat = False\n",
    "\n",
    "    def visit_Assignment(self, o, **kwargs):\n",
    "        \"\"\"\n",
    "        Check for pointer assignment (=>). Also check if pointer is disassociated,\n",
    "        else add the node to the returned list.\n",
    "        \"\"\"\n",
    "\n",
    "        ret = kwargs.pop('ret', self.default_retval())\n",
    "        if self.rule(self.match, o):\n",
    "            assert not self.stat # we should only visit the pointer assignment node once\n",
    "            self.stat = True\n",
    "        elif self.match.lhs in findvarsnotdims(o.lhs) and 'null' in [v.name.lower for v in findvarsnotdims(o.rhs)]:\n",
    "            assert self.stat\n",
    "            self.stat = False\n",
    "            ret.append(o)\n",
    "        elif self.stat:\n",
    "            ret.append(o)\n",
    "        return ret or self.default_retval()\n",
    "\n",
    "    def visit_Nullify(self, o, **kwargs):\n",
    "        \"\"\"\n",
    "        Check if pointer is disassociated, else add the node to the returned list.\n",
    "        \"\"\"\n",
    "\n",
    "        ret = kwargs.pop('ret', self.default_retval())\n",
    "        if self.match.lhs in findvarsnotdims(o.variables):\n",
    "            assert self.stat\n",
    "            self.stat = False\n",
    "            ret.append(o)\n",
    "        elif self.stat:\n",
    "            ret.append(o)\n",
    "        return ret or self.default_retval()\n",
    "\n",
    "    def visit_Node(self, o, **kwargs):\n",
    "        \"\"\"\n",
    "        Add the node to the returned list if stat is True and visit\n",
    "        all children.\n",
    "        \"\"\"\n",
    "\n",
    "        ret = kwargs.pop('ret', self.default_retval())\n",
    "        if self.stat:\n",
    "            ret.append(o)\n",
    "            if self.greedy:\n",
    "                return ret\n",
    "        for i in o.children:\n",
    "            ret = self.visit(i, ret=ret, **kwargs)\n",
    "        return ret or self.default_retval()\n",
    "\n",
    "for assign in [a for a in FindNodes(Assignment).visit(routine.body) if a.ptr]:\n",
    "    nodes = FindPointerRange(assign).visit(routine.body)\n",
    "    for node in nodes[:-1]:\n",
    "        print(node)\n"
   ]
  },
  {
   "cell_type": "markdown",
   "id": "3fceef8d",
   "metadata": {},
   "source": [
    "As the above output shows, our new visitor correctly identifies all three nodes over which the pointer association applies. We can now finally proceed to resolve the pointer association:"
   ]
  },
  {
   "cell_type": "code",
   "execution_count": 9,
   "id": "aef2e705",
   "metadata": {},
   "outputs": [
    {
     "name": "stdout",
     "output_type": "stream",
     "text": [
      "\n",
      "ALLOCATE (x(n))\n",
      "ALLOCATE (y(m))\n",
      "\n",
      "DO k=1,n\n",
      "  DO j=1,n\n",
      "    DO i=1,n\n",
      "      var_out(i, j, k) = 2._jprb\n",
      "    END DO\n",
      "    \n",
      "    var_out(m:n, j, k) = var_in(m:n, j, k) + var_inout(m:n, j, k) + var_out(m:n, j, k)\n",
      "    \n",
      "    \n",
      "    CALL some_kernel(n, var_out(:, j, k), var_out(:, j, k), var_in(:, j, k), var_inout(:, j, k), 1, h=n, l=5, y=y)\n",
      "    \n",
      "    \n",
      "    \n",
      "    CALL some_kernel(n, tendency_loc%cld(:, j, k), var_out(:, j, k), var_in(:, j, k), var_inout(:, j, k), 1, h=n, l=5, y=y)\n",
      "    \n",
      "    \n",
      "    DO i=1,n\n",
      "      var_inout(i, j, k) = var_out(i, j, k)\n",
      "    END DO\n",
      "  END DO\n",
      "END DO\n",
      "\n",
      "DEALLOCATE (x)\n",
      "DEALLOCATE (y)\n",
      "\n"
     ]
    }
   ],
   "source": [
    "pointer_map = {}\n",
    "for assign in [a for a in FindNodes(Assignment).visit(routine.body) if a.ptr]:\n",
    "    nodes = FindPointerRange(assign).visit(routine.body)\n",
    "    pointer_map[assign] = None\n",
    "    for node in nodes[:-1]:\n",
    "        vmap = {var: assign.rhs for var in FindVariables().visit(node) if assign.lhs == var}\n",
    "        pointer_map[node] = SubstituteExpressions(vmap).visit(node)\n",
    "    pointer_map[nodes[-1]] = None\n",
    "routine.body = Transformer(pointer_map).visit(routine.body)\n",
    "print(fgen(routine.body))\n"
   ]
  },
  {
   "cell_type": "markdown",
   "id": "feacf206",
   "metadata": {},
   "source": [
    "## Modifying variable values"
   ]
  },
  {
   "cell_type": "markdown",
   "id": "852fd85d",
   "metadata": {},
   "source": [
    "Putting aside function or subroutine calls for the moment (and also ignoring I/O), there are only two mechanisms for modifying the value of a variable. The obvious one is an [_Assignment_](https://sites.ecmwf.int/docs/loki/main/loki.ir.html#loki.ir.Assignment) statement, where the `rhs` value is assigned to the `lhs` value.\n",
    "\n",
    "Values can also be assigned to a variable by using it as the induction variable of a loop. Although an extremely unusual practice, Fortran compilers do allow dummy arguments of kind `intent(out)` or `intent(inout)`  to be used as the induction variables of a loop. This is however (in my humble opinion) bad coding practice; for ease of readability, local variables rather than dummy arguments should be used as loop induction variables. Therefore in our linter rules, we will forbid the use of variables with declared `intent` as loop induction variables.\n",
    "\n",
    "To enable us to check all our linter rules in just one pass of the subroutine's IR, we will create a new visitor: `IntentLinterVisitor`. The next section creates the `IntentLinterVisitor` visitor and defines linter rules for checking `intent` consistency within the `Subroutine` body. We will later examine how this can be extended to subroutine calls."
   ]
  },
  {
   "cell_type": "markdown",
   "id": "a4db06cc",
   "metadata": {},
   "source": [
    "## Checking `intent` in `Subroutine` body"
   ]
  },
  {
   "cell_type": "markdown",
   "id": "fec94f1c",
   "metadata": {},
   "source": [
    "Let us first define an initialization method for an instance of `IntentLinterVisitor`, and a method to check for rule violations:"
   ]
  },
  {
   "cell_type": "code",
   "execution_count": 10,
   "id": "b9a024c2",
   "metadata": {},
   "outputs": [],
   "source": [
    "from loki import Visitor\n",
    "\n",
    "class IntentLinterVisitor(Visitor):\n",
    "    \"\"\"Visitor to check for dummy argument intent violations.\"\"\"\n",
    "\n",
    "    def __init__(self, in_vars, out_vars, inout_vars):  # pylint: disable=redefined-outer-name\n",
    "        \"\"\"Initialise an instance of the intent linter visitor.\"\"\"\n",
    "\n",
    "        super().__init__()\n",
    "        self.in_vars = in_vars\n",
    "        self.out_vars = out_vars\n",
    "        self.inout_vars = inout_vars\n",
    "        self.var_check = {var: True for var in (in_vars + out_vars + inout_vars)}\n",
    "\n",
    "        self.vars_read = set(in_vars + inout_vars)\n",
    "        self.vars_written = set()\n",
    "        self.alloc_vars = set() # set of variables that are allocated\n",
    "\n",
    "    def rule_check(self):\n",
    "        \"\"\"Check rule-status for all variables with declared intent.\"\"\"\n",
    "\n",
    "        for v, s in self.var_check.items():\n",
    "            assert s, f'intent({v.type.intent}) rule broken for {v.name}'\n",
    "        print('All rules satisfied')\n"
   ]
  },
  {
   "cell_type": "markdown",
   "id": "9c679257",
   "metadata": {},
   "source": [
    "You may have noticed that in defining our new visitor, we also introduced an attribute called `alloc_vars`. This is intended to accumulate the variables allocated in a subroutine. The reason for including this attribute will be clear later on.\n",
    "\n",
    "We can now proceed to define the rules for our linter. The rule to check whether variables with declared intent are used as loop induction variables can be implemented as follows:"
   ]
  },
  {
   "cell_type": "code",
   "execution_count": 11,
   "id": "f4a62f1b",
   "metadata": {},
   "outputs": [],
   "source": [
    "def visit_Loop(self, o, **kwargs):\n",
    "    \"\"\"\n",
    "    Check if loop induction variable has declared intent, update vars_read/vars_written\n",
    "    if variables with declared intent are used in loop bounds and visit any nodes in loop body.\n",
    "    \"\"\"\n",
    "\n",
    "    if o.variable.type.intent:\n",
    "        self.var_check[o.variable] = False\n",
    "        print(f'intent({o.variable.type.intent}) {o.variable.name} used as loop induction variable.')\n",
    "    for v in [v for v in FindVariables().visit(o.bounds) if v.type.intent]:\n",
    "        if v not in self.vars_read | self.vars_written:\n",
    "            print(f'undefined intent({v.type.intent}) variable {v.name} used for loop bounds.')\n",
    "            self.var_check[v] = False\n",
    "        self.vars_read.add(v)\n",
    "        self.vars_written.discard(v)\n",
    "    self.visit(o.body, **kwargs)\n",
    "\n",
    "IntentLinterVisitor.visit_Loop = visit_Loop\n"
   ]
  },
  {
   "cell_type": "markdown",
   "id": "42f4e4d1",
   "metadata": {},
   "source": [
    "For `intent(in)` variables, we don't want their value to be reassigned in the `Subroutine`. Therefore the rule for checking `intent(in)` variables is the simplest: variables of kind `intent(in)` should not appear in the `lhs` of an `Assignment`. The rule for `intent(out)` variables is that upon entry to a subroutine, a value must be assigned to them before the variable can be used: `intent(out)` variables must be written to before they can be read. For `Assignment` statements, the above rules can be implemented as follows:"
   ]
  },
  {
   "cell_type": "code",
   "execution_count": 12,
   "id": "b28b2e39",
   "metadata": {},
   "outputs": [],
   "source": [
    "def visit_Assignment(self, o):\n",
    "    \"\"\"Check intent rules for assignment statements.\"\"\"\n",
    "\n",
    "    if o.lhs.type.intent == 'in':\n",
    "        print(f'value of intent(in) var {o.lhs.name} modified')\n",
    "        self.var_check[o.lhs] = False\n",
    "\n",
    "    self.vars_written.add(o.lhs)\n",
    "    self.vars_read.discard(o.lhs)\n",
    "\n",
    "    for v in FindVariables().visit(o.rhs):\n",
    "        if v.type.intent == 'out' and v not in self.vars_read | self.vars_written:\n",
    "            print('intent(out) var read from before being written to.')\n",
    "            self.var_check[v] = False\n",
    "        elif v.type.intent:\n",
    "            self.vars_read.add(v)\n",
    "            self.vars_written.discard(v)\n",
    "\n",
    "IntentLinterVisitor.visit_Assignment = visit_Assignment\n"
   ]
  },
  {
   "cell_type": "markdown",
   "id": "ccb50ad2",
   "metadata": {},
   "source": [
    "In principle we could also build similar checks for `intent(inout)` variables. However, the way in which some Fortran compilers treat `allocatable` variables prevents us from doing so.\n",
    "\n",
    "If an `allocatable` array is passed to a subroutine as a dummy argument of kind `intent(out)`, some Fortran compilers will deallocate that array upon exiting the subroutine. This is why in the IFS, data arrays are sometimes declared as `intent(inout)` even if their true intent is `intent(out)`. An example can be seen in the 'cloudsc-dwarf' in `src/cloudsc_driver_mod.F90`: the `REAL` array `PCOVPTOT` is declared `intent(inout)` even though it's value entering the subroutine is never used.\n",
    "\n",
    "An allocatable array passed as a dummy argument to a subroutine could thus belong to two possible categories:\n",
    "1. A variable that is truly of type `intent(inout)`\n",
    "2. A variable that is strictly of type `intent(out)`, but has been declared `intent(inout)` to avoid deallocation\n",
    "\n",
    "It would be very difficult to discern between the two options from a static analysis of the source code. As such, we will not impose any rules related to `Assignment` expressions for `intent(inout)` variables.\n",
    "\n",
    "We can however impose the rule that the dummy argument corresponding to an `allocatable` array must be of kind `intent(inout)` or `intent(in)`. To enable a `visit_CallStatement` method to perform this check, we first need a `visit_Allocation` method that updates the `alloc_vars` set:"
   ]
  },
  {
   "cell_type": "code",
   "execution_count": 13,
   "id": "6b6b5179",
   "metadata": {},
   "outputs": [],
   "source": [
    "def visit_Allocation(self, o):\n",
    "    \"\"\"\n",
    "    Update set of allocated variables and read/written sets for variables used to define\n",
    "    allocation size.\n",
    "    \"\"\"\n",
    "\n",
    "    self.alloc_vars.update(o.variables)\n",
    "    for v in [v for v in finddimsnotvars(o.variables) if v.type.intent]:\n",
    "        if v not in self.vars_read | self.vars_written:\n",
    "            print(f'undefined intent({v.type.intent}) variable {v.name} used to set allocation size.')\n",
    "            self.var_check[v] = False\n",
    "        self.vars_read.add(v)\n",
    "        self.vars_written.discard(v)\n",
    "\n",
    "IntentLinterVisitor.visit_Allocation = visit_Allocation\n"
   ]
  },
  {
   "cell_type": "markdown",
   "id": "feaa4c96",
   "metadata": {},
   "source": [
    "We are now ready to implement a `visit_CallSatement` method."
   ]
  },
  {
   "cell_type": "markdown",
   "id": "27f1275c",
   "metadata": {},
   "source": [
    "## Building `intent` map between function caller and callee"
   ]
  },
  {
   "cell_type": "markdown",
   "id": "df378590",
   "metadata": {},
   "source": [
    "We have already defined one linter rule for `CallStatement`s; dummy arguments corresponding to `allocatable` variables must of type `intent(in)` or `intent(inout)`. Another very important check we have to perform is to ensure that the declared `intent` of a dummy argument is consistent with the `intent` of the argument in the calling (parent) subroutine.\n",
    "\n",
    "For example, `var_in` is a variable of kind `intent(in)` in `Subroutine` `intent_test`. Therefore `var_in` must not be modified within `intent_test` or any subroutines called by `intent_test`. Hence in `some_kernel`, `var_in` must also be of kind `intent(in)`.\n",
    "\n",
    "The mapping for `intent(out)` variables is a little more complicated and depends on whether before the [_CallStatement_](https://sites.ecmwf.int/docs/loki/main/loki.ir.html#loki.ir.CallStatement), the variable in question has ever been written to, and if so, whether the value last assigned to it has been read at least once. The procedure for building the mapping is best illustrated using the flowchart below:"
   ]
  },
  {
   "cell_type": "code",
   "execution_count": 14,
   "id": "d795ea6a",
   "metadata": {},
   "outputs": [
    {
     "data": {
      "image/png": "[encoded data removed]",
      "text/plain": [
       "<IPython.core.display.Image object>"
      ]
     },
     "execution_count": 14,
     "metadata": {},
     "output_type": "execute_result"
    }
   ],
   "source": [
    "from IPython.display import Image\n",
    "\n",
    "fig = Image(filename='gfx/intent_out_map-crop.png')\n",
    "fig\n"
   ]
  },
  {
   "cell_type": "markdown",
   "id": "b8d64913",
   "metadata": {},
   "source": [
    "A similar process can be used to determine the mapping for `intent(inout)` variables:"
   ]
  },
  {
   "cell_type": "code",
   "execution_count": 15,
   "id": "bc9b5b41",
   "metadata": {},
   "outputs": [
    {
     "data": {
      "image/png": "[encoded data removed]",
      "text/plain": [
       "<IPython.core.display.Image object>"
      ]
     },
     "execution_count": 15,
     "metadata": {},
     "output_type": "execute_result"
    }
   ],
   "source": [
    "fig = Image(filename='gfx/intent_inout_map-crop.png')\n",
    "fig\n"
   ]
  },
  {
   "cell_type": "markdown",
   "id": "15545c2e",
   "metadata": {},
   "source": [
    "You may be wondering why `intent(out)` has been included as a permitted value for the rightmost tree of the above flowchart. It is to account for the following possibility: an `allocatable` variable is allocated in subroutine A, and passed as an argument to subroutine B. Subroutine B must therefore declare the variable as either `intent(inout)` or `intent(in)`. Subroutine B then passes the variable as an argument to subroutine C without using it first. In subroutine C, the variable can correctly be of any declared intent."
   ]
  },
  {
   "cell_type": "markdown",
   "id": "a2320a8a",
   "metadata": {},
   "source": [
    "## Checking `intent` consistency across function calls"
   ]
  },
  {
   "cell_type": "markdown",
   "id": "112d9adb",
   "metadata": {},
   "source": [
    "The code below gives an example of how a `visit_CallStatement` method can be implemented:"
   ]
  },
  {
   "cell_type": "code",
   "execution_count": 16,
   "id": "ae85e899",
   "metadata": {},
   "outputs": [],
   "source": [
    "intent_map = {'in': {'none': ['in'], 'lhs': ['in'], 'rhs': ['in']}}\n",
    "intent_map['out'] = {'none': ['out'], 'lhs': ['in', 'inout'], 'rhs': ['in', 'inout', 'out']}\n",
    "intent_map['inout'] = {'none': ['in', 'inout', 'out'], 'lhs': ['in', 'inout'], 'rhs': ['in', 'inout', 'out']}\n",
    "\n",
    "def visit_CallStatement(self, o):\n",
    "    \"\"\"\n",
    "    Check intent consistency across callstatement and check intent of\n",
    "    dummy arguments corresponding to allocatables.\n",
    "    \"\"\"\n",
    "\n",
    "    assign_type = {v.name: 'none' for v in self.in_vars + self.out_vars + self.inout_vars}\n",
    "    assign_type.update({v.name: 'lhs' for v in self.vars_written})\n",
    "    assign_type.update({v.name: 'rhs' for v in self.vars_read})\n",
    "\n",
    "    for f, a in o.arg_iter():\n",
    "        if getattr(getattr(a, 'type', None), 'intent', None):\n",
    "            if f.type.intent not in intent_map[a.type.intent][assign_type[a.name]]:\n",
    "                print(f'Inconsistent intent in {o} for arg {a.name}')\n",
    "            if f.type.intent in ['in']:\n",
    "                self.vars_read.add(a)\n",
    "                self.vars_written.discard(a)\n",
    "            else:\n",
    "                self.vars_written.add(a)\n",
    "                self.vars_read.discard(a)\n",
    "        if getattr(a, \"name\", None) in [v.name for v in self.alloc_vars]:\n",
    "            if not f.type.intent in ['in', 'inout']:\n",
    "                print(f'Allocatable argument {a.name} has wrong intent in {o.routine}.')\n",
    "\n",
    "IntentLinterVisitor.intent_map = intent_map\n",
    "IntentLinterVisitor.visit_CallStatement = visit_CallStatement\n",
    "routine.enrich(source.all_subroutines) # link CallStatements to Subroutines\n"
   ]
  },
  {
   "cell_type": "markdown",
   "id": "83a0eaa7",
   "metadata": {},
   "source": [
    "In the final line of the above code-cell, we called the function `enrich`. This uses inter-procedural analysis to link `CallStatement` nodes to the relevant `Subroutine` objects. Also note that in the above code-cell, `intent_map` has been declared as a class-attribute because it will be the same for every instance of `IntentLinterVisitor`. \n",
    "\n",
    "We can now finally run our intent-linter and check if any rules are broken:"
   ]
  },
  {
   "cell_type": "code",
   "execution_count": 17,
   "id": "1baca9f0",
   "metadata": {},
   "outputs": [
    {
     "name": "stdout",
     "output_type": "stream",
     "text": [
      "All rules satisfied\n"
     ]
    }
   ],
   "source": [
    "intent_linter = IntentLinterVisitor(in_vars, out_vars, inout_vars)\n",
    "intent_linter.visit(routine.body)\n",
    "intent_linter.rule_check()\n"
   ]
  }
 ],
 "metadata": {
  "kernelspec": {
   "display_name": "Python 3.8.8 ('loki_env': venv)",
   "language": "python",
   "name": "python3"
  },
  "language_info": {
   "codemirror_mode": {
    "name": "ipython",
    "version": 3
   },
   "file_extension": ".py",
   "mimetype": "text/x-python",
   "name": "python",
   "nbconvert_exporter": "python",
   "pygments_lexer": "ipython3",
   "version": "3.8.8"
  },
  "vscode": {
   "interpreter": {
    "hash": "5b6429b76fde06fc4400bf3c27b3ae893ffb7a047f8b8ee9418a3bc77878d107"
   }
  }
 },
 "nbformat": 4,
 "nbformat_minor": 5
}
