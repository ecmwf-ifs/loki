{
 "cells": [
  {
   "cell_type": "markdown",
   "metadata": {},
   "source": [
    "# How to use the data dependency checker for static array access\n",
    "\n",
    "This is a small introduction notebook on the use of dependency detection inside of loop enviroments for static [<sup>(1)</sup>](#fn1)  array acesses. The intention is to show the required steps to setup the dependency problem, how to solve it and interpret the result.\n",
    "\n",
    "Lets start by parsing the file `src/phys_mod.F90` from the `example` directory and let us consider the simple routine `phys_kernel_LITE_LOOP`.\n",
    "\n",
    "[<sup id=\"fn1\">(1)</sup>](#fn1-back) \"static access is an array reference at a particular location in a programm\" - Compilers: Principles, Techniques, and Tools </span>"
   ]
  },
  {
   "cell_type": "code",
   "execution_count": 1,
   "metadata": {},
   "outputs": [
    {
     "name": "stderr",
     "output_type": "stream",
     "text": [
      "[Loki::Sourcefile] Constructed from src/phys_mod.F90 in 1.64s\n"
     ]
    }
   ],
   "source": [
    "from loki import Sourcefile\n",
    "\n",
    "source = Sourcefile.from_file(\"src/phys_mod.F90\", preprocess=True)\n",
    "routine = source[\"phys_kernel_LITE_LOOP\"]"
   ]
  },
  {
   "cell_type": "markdown",
   "metadata": {},
   "source": [
    "Let us examine that subroutine, it consists of a nested loop of depth two with two assignments in the inner most loop body. "
   ]
  },
  {
   "cell_type": "code",
   "execution_count": 2,
   "metadata": {},
   "outputs": [
    {
     "name": "stdout",
     "output_type": "stream",
     "text": [
      "<Section::>\n",
      "  <Loop:: k=1:dim2>\n",
      "    <Loop:: i=i1:i2>\n",
      "      <Assignment:: out1(i, k) = (in1(i, k) + in2(i, k) + in3(i, k) + in4(i, k) + in5(i, \n",
      "      k) + in6(i, k) + in7(i, k) + in8(i, k) + in9(i, k) + in10(i, k))*0.1>\n",
      "      <Assignment:: in1(i, k) = out1(i, k)>"
     ]
    }
   ],
   "source": [
    "routine.body.view()"
   ]
  },
  {
   "cell_type": "markdown",
   "metadata": {},
   "source": [
    "Before we consider the actual iteration space (i.e. space spanned by the loop indicies) we define some small utility functions. One simple interpreting anything as a column vector and one pretty printing a system of equations for better viewing experience."
   ]
  },
  {
   "cell_type": "code",
   "execution_count": 3,
   "metadata": {},
   "outputs": [],
   "source": [
    "from numpy import array, isscalar\n",
    "\n",
    "\n",
    "def as_column(element):\n",
    "    return array(element).reshape(-1, 1)\n",
    "\n",
    "\n",
    "def pprint_equation(*args):\n",
    "    def make_strings_equal_length(strings):\n",
    "        max_length = max(len(s) for s in strings)\n",
    "        padded_strings = [s.ljust(max_length) for s in strings]\n",
    "        return padded_strings\n",
    "\n",
    "    collection = [\n",
    "        str(element).split(\"\\n\") if not isscalar(element) else str(element)\n",
    "        for element in args\n",
    "    ]\n",
    "    count_rows_per_element = [\n",
    "        len(element) if isinstance(element, list) else 1 for element in collection\n",
    "    ]\n",
    "\n",
    "    max_number_lines = max(count_rows_per_element)\n",
    "    collection = [\n",
    "        [\" \"] * ((max_number_lines - len(element) + 1) // 2)\n",
    "        + element\n",
    "        + [\" \"] * ((max_number_lines - len(element)) // 2)\n",
    "        if isinstance(element, list)\n",
    "        else element\n",
    "        for index, element in enumerate(collection)\n",
    "    ]\n",
    "\n",
    "    collection = [\n",
    "        make_strings_equal_length(element) if isinstance(element, list) else element\n",
    "        for element in collection\n",
    "    ]\n",
    "\n",
    "    for i in range(max_number_lines):\n",
    "        for element in collection:\n",
    "            if isinstance(element, list):\n",
    "                print(element[i], end=\" \")\n",
    "            else:\n",
    "                if i == max_number_lines // 2:\n",
    "                    print(element, end=\" \")\n",
    "                else:\n",
    "                    print(\" \" * len(element), end=\" \")\n",
    "        print(\"\")"
   ]
  },
  {
   "cell_type": "markdown",
   "metadata": {},
   "source": [
    "Extracting the iteration space is an easy process. We know that all our assignments which are worth comparing are inside the deepest loop body therfore simply collecting all nested loops is enough and transforming them via the polyhedron utility into the required inequality relation. For a more complex situation view further down \"Collecting access in different loop bodies\""
   ]
  },
  {
   "cell_type": "code",
   "execution_count": 4,
   "metadata": {},
   "outputs": [],
   "source": [
    "from loki.analyse.analyse_dependency_detection import get_nested_loops\n",
    "from loki.analyse.util_polyhedron import Polyhedron\n",
    "\n",
    "nested_loops = list(get_nested_loops(routine.body))\n",
    "poly = Polyhedron.from_nested_loops(nested_loops)\n",
    "B, b = poly.A, as_column(poly.b)\n",
    "iteration_space_required_variables = list(str(v) for v in poly.variables)"
   ]
  },
  {
   "cell_type": "code",
   "execution_count": 5,
   "metadata": {},
   "outputs": [
    {
     "name": "stdout",
     "output_type": "stream",
     "text": [
      "                     [['k']             \n",
      "[[-1  0  0  0  0]     ['i']      [[-1]  \n",
      " [ 1  0 -1  0  0]  *  ['dim2'] ≤  [ 0]  \n",
      " [ 0 -1  0  1  0]     ['i1']      [ 0]  \n",
      " [ 0  1  0  0 -1]]    ['i2']]     [ 0]] \n"
     ]
    }
   ],
   "source": [
    "pprint_equation(B, \"*\", as_column(iteration_space_required_variables), \"≤\", b)"
   ]
  },
  {
   "cell_type": "markdown",
   "metadata": {},
   "source": [
    "Next is the collection of the actual array access that we would like to compare. With the knowledge of the subroutine we deal with only two assignments, by traversing the IR and collecting all assignments."
   ]
  },
  {
   "cell_type": "code",
   "execution_count": 6,
   "metadata": {},
   "outputs": [
    {
     "name": "stdout",
     "output_type": "stream",
     "text": [
      "Write into out1(i,k): \n",
      "\tAssignment:: out1(i, k) = (in1(i, k) + in2(i, k) + in3(i, k) + in4(i, k) + in5(i, k) + in6(i, k) + in7(i, k) + in8(i, k) + in9(i, k) + in10(i, k))*0.1\n",
      "Read of out1(i,k): \n",
      "\tAssignment:: in1(i, k) = out1(i, k)\n"
     ]
    }
   ],
   "source": [
    "from loki import FindNodes, Assignment\n",
    "\n",
    "assignments = FindNodes(Assignment).visit(routine.body)\n",
    "\n",
    "first_assignement, second_assignment = (*assignments,)\n",
    "\n",
    "print(\n",
    "    f\"Write into out1(i,k): \\n\\t{first_assignement}\",\n",
    "    f\"Read of out1(i,k): \\n\\t{second_assignment}\",\n",
    "    sep=\"\\n\",\n",
    ")"
   ]
  },
  {
   "cell_type": "markdown",
   "metadata": {},
   "source": [
    "The task of how to select which array access to compare with which is currently not automatized, therefore the user is required to produce a reasonable. Here we compare the write into `out1` of the first assignment with the read of it in the second assignment, which represents a **True Dependency**, i.e. a write which is folled by a read of the same location. Even though the overall relationship is more complex, since the read of `out1` is stored in `in1` which then may be used in the some future iteration.\n",
    "\n",
    "Now we need to describe this access in their affine array access function representation, i.e. as a matrix vector product with an additional added vector. This is done by using the `construct_affine_array_access_function_representation` function which takes a tuple describing the dimensions access of an array and a list of to be considered variables."
   ]
  },
  {
   "cell_type": "code",
   "execution_count": 7,
   "metadata": {},
   "outputs": [],
   "source": [
    "from loki.analyse.analyse_dependency_detection import (\n",
    "    construct_affine_array_access_function_representation,\n",
    ")\n",
    "\n",
    "F, f, access_variables = construct_affine_array_access_function_representation(\n",
    "    first_assignement.lhs.dimensions, iteration_space_required_variables\n",
    ")"
   ]
  },
  {
   "cell_type": "markdown",
   "metadata": {},
   "source": [
    "Resulting in this representation:"
   ]
  },
  {
   "cell_type": "code",
   "execution_count": 8,
   "metadata": {},
   "outputs": [
    {
     "name": "stdout",
     "output_type": "stream",
     "text": [
      "                [['k']                \n",
      "                 ['i']                \n",
      "[[0 1 0 0 0]  *  ['dim2'] + [[0]  = 0 \n",
      " [1 0 0 0 0]]    ['i1']      [0]]     \n",
      "                 ['i2']]              \n"
     ]
    }
   ],
   "source": [
    "pprint_equation(F, \"*\", as_column(access_variables), \"+\", f, \"=\", 0)"
   ]
  },
  {
   "cell_type": "markdown",
   "metadata": {},
   "source": [
    "The same is done for the second access."
   ]
  },
  {
   "cell_type": "code",
   "execution_count": 9,
   "metadata": {},
   "outputs": [],
   "source": [
    "(\n",
    "    F_dash,\n",
    "    f_dash,\n",
    "    access_variables_dash,\n",
    ") = construct_affine_array_access_function_representation(\n",
    "    second_assignment.rhs.dimensions, iteration_space_required_variables\n",
    ")\n",
    "\n",
    "assert access_variables == access_variables_dash"
   ]
  },
  {
   "cell_type": "markdown",
   "metadata": {},
   "source": [
    "With the representation:"
   ]
  },
  {
   "cell_type": "code",
   "execution_count": 10,
   "metadata": {},
   "outputs": [
    {
     "name": "stdout",
     "output_type": "stream",
     "text": [
      "                [['k']                \n",
      "                 ['i']                \n",
      "[[0 1 0 0 0]  *  ['dim2'] + [[0]  = 0 \n",
      " [1 0 0 0 0]]    ['i1']      [0]]     \n",
      "                 ['i2']]              \n"
     ]
    }
   ],
   "source": [
    "pprint_equation(F_dash, \"*\", as_column(access_variables_dash), \"+\", f_dash, \"=\", 0)"
   ]
  },
  {
   "cell_type": "markdown",
   "metadata": {},
   "source": [
    "Now we have a iteration space per function access, here it is the same iteration space since all function accesses happen in the inner most loop. Passing this combination to the `has_data_dependency` function we now emply various techniques (gcd test, independet variable test, integer linear programming) to confirm or deny a data dependency."
   ]
  },
  {
   "cell_type": "code",
   "execution_count": 11,
   "metadata": {},
   "outputs": [
    {
     "name": "stdout",
     "output_type": "stream",
     "text": [
      "There is a data dependency between the two accesses.\n"
     ]
    }
   ],
   "source": [
    "from loki.analyse.analyse_array_data_dependency_detection import has_data_dependency\n",
    "\n",
    "first_access_represenetation = ((B, b), (F, f))\n",
    "second_access_represenetation = ((B, b), (F_dash, f_dash))\n",
    "\n",
    "if has_data_dependency(first_access_represenetation, second_access_represenetation):\n",
    "    print(\"There is a data dependency between the two accesses.\")\n",
    "else:\n",
    "    print(\"There is no data dependency between the two accesses.\")"
   ]
  },
  {
   "cell_type": "markdown",
   "metadata": {},
   "source": [
    "<a id='Collecting_access_in_different_loop_bodies'></a>\n",
    "# Collecting access in different loop bodies"
   ]
  },
  {
   "cell_type": "markdown",
   "metadata": {},
   "source": [
    "For this we consider a different subroutine, with two independent loops one iterating over all even integers and one iterating over all odd, clearly showing no data dependency."
   ]
  },
  {
   "cell_type": "code",
   "execution_count": 12,
   "metadata": {},
   "outputs": [
    {
     "name": "stderr",
     "output_type": "stream",
     "text": [
      "[Loki::Sourcefile] Constructed from ../tests/sources/data_dependency_detection/loop_carried_dependencies.f90 in 0.20s\n"
     ]
    }
   ],
   "source": [
    "source = Sourcefile.from_file(\n",
    "    \"../tests/sources/data_dependency_detection/loop_carried_dependencies.f90\",\n",
    "    preprocess=True,\n",
    ")\n",
    "routine = source[\"NoDependency\"]"
   ]
  },
  {
   "cell_type": "code",
   "execution_count": 13,
   "metadata": {},
   "outputs": [
    {
     "name": "stdout",
     "output_type": "stream",
     "text": [
      "<Section::>\n",
      "  <Comment:: >\n",
      "  <Loop:: i=1:10:1>\n",
      "    <Assignment:: data(2*i) = 10>\n",
      "  <Comment:: >\n",
      "  <Loop:: i=1:5:1>\n",
      "    <Assignment:: data(2*i + 1) = 20>"
     ]
    }
   ],
   "source": [
    "routine.body.view()"
   ]
  },
  {
   "cell_type": "markdown",
   "metadata": {},
   "source": [
    "Here the two different loops are collected greedily and then **two** different iteration spaces are constructed in the same way as above."
   ]
  },
  {
   "cell_type": "code",
   "execution_count": 14,
   "metadata": {},
   "outputs": [],
   "source": [
    "from loki import Loop\n",
    "\n",
    "outer_loops = FindNodes(Loop, greedy=True).visit(routine.body)\n",
    "\n",
    "first_iteration_space = Polyhedron.from_nested_loops([outer_loops[0]])\n",
    "second_iteration_space = Polyhedron.from_nested_loops([outer_loops[1]])"
   ]
  },
  {
   "cell_type": "code",
   "execution_count": 15,
   "metadata": {},
   "outputs": [
    {
     "name": "stdout",
     "output_type": "stream",
     "text": [
      "[[-1]              [[-1]  \n",
      " [ 1]] * [['i']] ≤  [10]] \n"
     ]
    }
   ],
   "source": [
    "B, b = first_iteration_space.A, as_column(first_iteration_space.b)\n",
    "iteration_space_required_variables = [str(v) for v in first_iteration_space.variables]\n",
    "\n",
    "pprint_equation(B, \"*\", as_column(iteration_space_required_variables), \"≤\", b)"
   ]
  },
  {
   "cell_type": "code",
   "execution_count": 16,
   "metadata": {},
   "outputs": [
    {
     "name": "stdout",
     "output_type": "stream",
     "text": [
      "[[-1]              [[-1]  \n",
      " [ 1]] * [['i']] ≤  [ 5]] \n"
     ]
    }
   ],
   "source": [
    "B_dash, b_dash = second_iteration_space.A, as_column(second_iteration_space.b)\n",
    "iteration_space_required_variables_dash = [\n",
    "    str(v) for v in second_iteration_space.variables\n",
    "]\n",
    "\n",
    "assert iteration_space_required_variables == iteration_space_required_variables_dash\n",
    "\n",
    "pprint_equation(\n",
    "    B_dash, \"*\", as_column(iteration_space_required_variables_dash), \"≤\", b_dash\n",
    ")"
   ]
  },
  {
   "cell_type": "markdown",
   "metadata": {},
   "source": [
    "Again the assignments are collected, then the access on the `data` array is represented for the two different assignments."
   ]
  },
  {
   "cell_type": "code",
   "execution_count": 17,
   "metadata": {},
   "outputs": [
    {
     "name": "stdout",
     "output_type": "stream",
     "text": [
      "Write into data(even values): \n",
      "\tAssignment:: data(2*i) = 10\n",
      "Write into data(odd values): \n",
      "\tAssignment:: data(2*i + 1) = 20\n"
     ]
    }
   ],
   "source": [
    "assignments = FindNodes(Assignment).visit(routine.body)\n",
    "\n",
    "first_assignement, second_assignment = (*assignments,)\n",
    "\n",
    "print(\n",
    "    f\"Write into data(even values): \\n\\t{first_assignement}\",\n",
    "    f\"Write into data(odd values): \\n\\t{second_assignment}\",\n",
    "    sep=\"\\n\",\n",
    ")"
   ]
  },
  {
   "cell_type": "code",
   "execution_count": 18,
   "metadata": {},
   "outputs": [
    {
     "name": "stdout",
     "output_type": "stream",
     "text": [
      "[[2]] * [['i']] + [[0]] = 0 \n"
     ]
    }
   ],
   "source": [
    "F, f, access_variables = construct_affine_array_access_function_representation(\n",
    "    first_assignement.lhs.dimensions, iteration_space_required_variables\n",
    ")\n",
    "\n",
    "pprint_equation(F, \"*\", as_column(access_variables), \"+\", f, \"=\", 0)"
   ]
  },
  {
   "cell_type": "code",
   "execution_count": 19,
   "metadata": {},
   "outputs": [
    {
     "name": "stdout",
     "output_type": "stream",
     "text": [
      "[[2]] * [['i']] + [[1]] = 0 \n"
     ]
    }
   ],
   "source": [
    "(\n",
    "    F_dash,\n",
    "    f_dash,\n",
    "    access_variables_dash,\n",
    ") = construct_affine_array_access_function_representation(\n",
    "    second_assignment.lhs.dimensions, iteration_space_required_variables\n",
    ")\n",
    "\n",
    "assert access_variables == access_variables_dash\n",
    "\n",
    "pprint_equation(F_dash, \"*\", as_column(access_variables_dash), \"+\", f_dash, \"=\", 0)"
   ]
  },
  {
   "cell_type": "markdown",
   "metadata": {},
   "source": [
    "And last but not least the question of a data dependency is answered."
   ]
  },
  {
   "cell_type": "code",
   "execution_count": 20,
   "metadata": {},
   "outputs": [
    {
     "name": "stdout",
     "output_type": "stream",
     "text": [
      "There is no data dependency between the two accesses.\n"
     ]
    }
   ],
   "source": [
    "first_access_represenetation = ((B, b), (F, f))\n",
    "second_access_represenetation = ((B_dash, b_dash), (F_dash, f_dash))\n",
    "\n",
    "if has_data_dependency(first_access_represenetation, second_access_represenetation):\n",
    "    print(\"There is a data dependency between the two accesses.\")\n",
    "else:\n",
    "    print(\"There is no data dependency between the two accesses.\")"
   ]
  },
  {
   "cell_type": "code",
   "execution_count": null,
   "metadata": {},
   "outputs": [],
   "source": []
  }
 ],
 "metadata": {
  "kernelspec": {
   "display_name": "loki_env",
   "language": "python",
   "name": "python3"
  },
  "language_info": {
   "codemirror_mode": {
    "name": "ipython",
    "version": 3
   },
   "file_extension": ".py",
   "mimetype": "text/x-python",
   "name": "python",
   "nbconvert_exporter": "python",
   "pygments_lexer": "ipython3",
   "version": "3.10.12"
  }
 },
 "nbformat": 4,
 "nbformat_minor": 2
}
